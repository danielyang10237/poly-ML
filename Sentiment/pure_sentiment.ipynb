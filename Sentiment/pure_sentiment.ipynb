{
 "cells": [
  {
   "cell_type": "code",
   "execution_count": 1,
   "metadata": {},
   "outputs": [],
   "source": [
    "# import all dependencies needed\n",
    "from transformers import AutoTokenizer, AutoModelForSequenceClassification\n",
    "import torch\n",
    "from torch.utils.data import DataLoader, TensorDataset\n",
    "from sklearn.model_selection import train_test_split\n",
    "import os"
   ]
  },
  {
   "cell_type": "code",
   "execution_count": 19,
   "metadata": {},
   "outputs": [
    {
     "name": "stderr",
     "output_type": "stream",
     "text": [
      "/home/dyang/miniconda3/envs/NLP_env3.8/lib/python3.8/site-packages/huggingface_hub/file_download.py:1132: FutureWarning: `resume_download` is deprecated and will be removed in version 1.0.0. Downloads always resume when possible. If you want to force a new download, use `force_download=True`.\n",
      "  warnings.warn(\n"
     ]
    },
    {
     "data": {
      "application/vnd.jupyter.widget-view+json": {
       "model_id": "5d1d3eec0e8944f287456c89bb17d7a9",
       "version_major": 2,
       "version_minor": 0
      },
      "text/plain": [
       "config.json:   0%|          | 0.00/482 [00:00<?, ?B/s]"
      ]
     },
     "metadata": {},
     "output_type": "display_data"
    },
    {
     "data": {
      "application/vnd.jupyter.widget-view+json": {
       "model_id": "421b9b3b4b2b424fa88535b8ec44d394",
       "version_major": 2,
       "version_minor": 0
      },
      "text/plain": [
       "model.safetensors:   0%|          | 0.00/1.42G [00:00<?, ?B/s]"
      ]
     },
     "metadata": {},
     "output_type": "display_data"
    },
    {
     "name": "stderr",
     "output_type": "stream",
     "text": [
      "Some weights of RobertaForSequenceClassification were not initialized from the model checkpoint at roberta-large and are newly initialized: ['classifier.dense.bias', 'classifier.dense.weight', 'classifier.out_proj.bias', 'classifier.out_proj.weight']\n",
      "You should probably TRAIN this model on a down-stream task to be able to use it for predictions and inference.\n"
     ]
    }
   ],
   "source": [
    "# download the pretrained model and tokenizers for transfer learning\n",
    "tokenizer = AutoTokenizer.from_pretrained(\"siebert/sentiment-roberta-large-english\")\n",
    "model = AutoModelForSequenceClassification.from_pretrained(\"siebert/sentiment-roberta-large-english\", num_labels=2)\n",
    "no_pretrained_model = AutoModelForSequenceClassification.from_pretrained(\"roberta-large\", num_labels=2)"
   ]
  },
  {
   "cell_type": "code",
   "execution_count": 5,
   "metadata": {},
   "outputs": [],
   "source": [
    "# Read in our data from our dataset\n",
    "if not os.path.isdir('amazon_sentiment_data'):\n",
    "    raise ValueError('amazon_sentiment_data is not a directory')\n",
    "\n",
    "labels = []\n",
    "texts = []\n",
    "\n",
    "with open('amazon_sentiment_data/reviews.txt') as f:\n",
    "    for line in f:\n",
    "        label, text = line[9], line[11:]\n",
    "        if label not in ['2', '1']:\n",
    "            print(label)\n",
    "            raise ValueError(f'Invalid label: {label}')\n",
    "        if label == '2':\n",
    "            labels.append(1)\n",
    "        else:\n",
    "            labels.append(0)\n",
    "        texts.append(text.strip())"
   ]
  },
  {
   "cell_type": "code",
   "execution_count": 6,
   "metadata": {},
   "outputs": [],
   "source": [
    "# Tokenize the data\n",
    "tokenized_data = tokenizer(texts, max_length=256, padding='max_length', truncation=True, return_tensors='pt')\n"
   ]
  },
  {
   "cell_type": "code",
   "execution_count": 7,
   "metadata": {},
   "outputs": [],
   "source": [
    "input_ids = tokenized_data['input_ids']\n",
    "attention_masks = tokenized_data['attention_mask']\n",
    "labels = labels \n",
    "\n",
    "# Split the data into training and testing sets\n",
    "train_inputs, temp_test_inputs, train_masks, temp_test_masks, train_labels, temp_test_labels = train_test_split(\n",
    "    input_ids, attention_masks, labels, test_size=0.2, random_state=42\n",
    ")\n",
    "\n",
    "# I also want a test set and validation set\n",
    "test_inputs, val_inputs, test_masks, val_masks, test_labels, val_labels = train_test_split(\n",
    "    temp_test_inputs, temp_test_masks, temp_test_labels, test_size=0.5, random_state=42\n",
    ")"
   ]
  },
  {
   "cell_type": "code",
   "execution_count": 8,
   "metadata": {},
   "outputs": [
    {
     "name": "stdout",
     "output_type": "stream",
     "text": [
      "torch.Size([320000, 256])\n",
      "torch.Size([320000])\n",
      "torch.Size([320000, 256])\n",
      "torch.Size([40000, 256])\n",
      "torch.Size([40000])\n",
      "torch.Size([40000, 256])\n",
      "torch.Size([40000, 256])\n",
      "torch.Size([40000, 256])\n",
      "torch.Size([40000])\n"
     ]
    }
   ],
   "source": [
    "# Convert labels to tensors\n",
    "if not torch.is_tensor(train_labels):\n",
    "    train_labels = torch.tensor(train_labels)\n",
    "if not torch.is_tensor(test_labels):\n",
    "    test_labels = torch.tensor(test_labels)\n",
    "if not torch.is_tensor(train_inputs):\n",
    "    train_inputs = torch.tensor(train_inputs)\n",
    "if not torch.is_tensor(test_inputs):\n",
    "    test_inputs = torch.tensor(test_inputs)\n",
    "if not torch.is_tensor(train_masks):\n",
    "    train_masks = torch.tensor(train_masks)\n",
    "if not torch.is_tensor(test_masks):\n",
    "    test_masks = torch.tensor(test_masks)\n",
    "if not torch.is_tensor(val_inputs):\n",
    "    val_inputs = torch.tensor(val_inputs)\n",
    "if not torch.is_tensor(val_masks):\n",
    "    val_masks = torch.tensor(val_masks)\n",
    "if not torch.is_tensor(val_labels):\n",
    "    val_labels = torch.tensor(val_labels)\n",
    "\n",
    "print(train_inputs.shape)\n",
    "print(train_labels.shape)\n",
    "print(train_masks.shape)\n",
    "print(test_masks.shape)\n",
    "print(test_labels.shape)\n",
    "print(test_inputs.shape)\n",
    "print(val_inputs.shape)\n",
    "print(val_masks.shape)\n",
    "print(val_labels.shape)"
   ]
  },
  {
   "cell_type": "code",
   "execution_count": 9,
   "metadata": {},
   "outputs": [],
   "source": [
    "# define our dataset\n",
    "from torch.utils.data import Dataset, DataLoader\n",
    "\n",
    "class SentimentDataset(Dataset):\n",
    "    def __init__(self, input_ids, attention_masks, labels):\n",
    "        self.input_ids = input_ids\n",
    "        self.attention_masks = attention_masks\n",
    "        self.labels = labels\n",
    "        self.encodings = {\n",
    "            'input_ids': self.input_ids,\n",
    "            'attention_mask': self.attention_masks\n",
    "        }\n",
    "    \n",
    "    def __len__(self):\n",
    "        return len(self.input_ids)\n",
    "    \n",
    "    def __getitem__(self, idx):\n",
    "        item = {key: torch.tensor(val[idx]) for key, val in self.encodings.items()}\n",
    "        item['labels'] = torch.tensor(self.labels[idx])\n",
    "        return item"
   ]
  },
  {
   "cell_type": "code",
   "execution_count": 10,
   "metadata": {},
   "outputs": [],
   "source": [
    "# Create datasets\n",
    "train_dataset = SentimentDataset(train_inputs, train_masks, train_labels)\n",
    "val_dataset = SentimentDataset(val_inputs, val_masks, val_labels)\n",
    "test_dataset = SentimentDataset(test_inputs, test_masks, test_labels)"
   ]
  },
  {
   "cell_type": "code",
   "execution_count": 11,
   "metadata": {},
   "outputs": [],
   "source": [
    "# Create dataloaders\n",
    "train_dataloader = DataLoader(train_dataset, batch_size=16, shuffle=True)\n",
    "val_dataloader = DataLoader(val_dataset, batch_size=16, shuffle=False)\n",
    "test_dataloader = DataLoader(test_dataset, batch_size=16, shuffle=False)"
   ]
  },
  {
   "cell_type": "code",
   "execution_count": 12,
   "metadata": {},
   "outputs": [
    {
     "name": "stderr",
     "output_type": "stream",
     "text": [
      "/home/dyang/miniconda3/envs/NLP_env3.8/lib/python3.8/site-packages/transformers/optimization.py:429: FutureWarning: This implementation of AdamW is deprecated and will be removed in a future version. Use the PyTorch implementation torch.optim.AdamW instead, or set `no_deprecation_warning=True` to disable this warning\n",
      "  warnings.warn(\n",
      "huggingface/tokenizers: The current process just got forked, after parallelism has already been used. Disabling parallelism to avoid deadlocks...\n",
      "To disable this warning, you can either:\n",
      "\t- Avoid using `tokenizers` before the fork if possible\n",
      "\t- Explicitly set the environment variable TOKENIZERS_PARALLELISM=(true | false)\n"
     ]
    }
   ],
   "source": [
    "# Training setup\n",
    "from transformers import AdamW, Trainer, TrainingArguments\n",
    "\n",
    "optimizer = AdamW(model.parameters(), lr=2e-5)\n",
    "\n",
    "training_args = TrainingArguments(\n",
    "    output_dir='./results',\n",
    "    num_train_epochs=3,\n",
    "    per_device_train_batch_size=8,\n",
    "    warmup_steps=500,\n",
    "    weight_decay=0.01,\n",
    "    logging_dir='./logs',\n",
    "    evaluation_strategy=\"epoch\",\n",
    "    save_strategy=\"epoch\",\n",
    "    load_best_model_at_end=True\n",
    ")"
   ]
  },
  {
   "cell_type": "code",
   "execution_count": 15,
   "metadata": {},
   "outputs": [],
   "source": [
    "def test(model, dataloader):\n",
    "    device = torch.device('cuda' if torch.cuda.is_available() else 'cpu')\n",
    "    model.to(device)\n",
    "\n",
    "    model.eval()\n",
    "    total = 0\n",
    "    correct = 0\n",
    "    predictions = []\n",
    "\n",
    "    for batch in dataloader:\n",
    "        input_ids = batch['input_ids'].to(device)\n",
    "        attention_mask = batch['attention_mask'].to(device)\n",
    "        labels = batch['labels'].to(device)\n",
    "\n",
    "        assert isinstance(input_ids, torch.Tensor)\n",
    "        assert isinstance(attention_mask, torch.Tensor)\n",
    "        assert isinstance(labels, torch.Tensor)\n",
    "\n",
    "        with torch.no_grad():\n",
    "            outputs = model(input_ids, attention_mask=attention_mask)\n",
    "            logits = outputs.logits\n",
    "            pred_labels = logits.argmax(dim=1)\n",
    "            predictions.extend(pred_labels.cpu().numpy())\n",
    "\n",
    "        correct += (pred_labels == labels).sum().item()\n",
    "        total += labels.size(0)\n",
    "\n",
    "    accuracy = correct / total\n",
    "\n",
    "    return accuracy, predictions"
   ]
  },
  {
   "cell_type": "code",
   "execution_count": 16,
   "metadata": {},
   "outputs": [],
   "source": [
    "from tqdm import tqdm\n",
    "\n",
    "def train(model, train_dataloader, val_dataloader, optimizer, training_args, early_stop=False):\n",
    "    output_dir = training_args.output_dir\n",
    "    epochs = training_args.num_train_epochs\n",
    "    batch_size = training_args.per_device_train_batch_size\n",
    "    warmup_steps = training_args.warmup_steps\n",
    "    weight_decay = training_args.weight_decay\n",
    "    logging_dir = training_args.logging_dir\n",
    "    evaluation_strategy = training_args.evaluation_strategy\n",
    "    save_strategy = training_args.save_strategy\n",
    "    load_best_model_at_end = training_args.load_best_model_at_end\n",
    "\n",
    "    if torch.cuda.is_available():\n",
    "        device = torch.device(\"cuda:0\")  \n",
    "        model.to(device)\n",
    "        print(\"Model is on GPU:\", torch.cuda.get_device_name(0))\n",
    "    else:\n",
    "        device = torch.device(\"cpu\")\n",
    "        model.to(device)\n",
    "        print(\"Model is on CPU\")\n",
    "\n",
    "    criterion = torch.nn.CrossEntropyLoss()\n",
    "\n",
    "    scheduler = torch.optim.lr_scheduler.StepLR(optimizer, step_size=1, gamma=0.1)\n",
    "\n",
    "    best_val_loss = float('inf')\n",
    "\n",
    "    for epoch in range(epochs):\n",
    "        model.train()\n",
    "        total_train_loss = 0\n",
    "\n",
    "        train_progress_bar = tqdm(enumerate(train_dataloader), total=len(train_dataloader), desc=f\"Epoch {epoch + 1}/{epochs} Training\")\n",
    "        for i, batch in train_progress_bar:\n",
    "            optimizer.zero_grad()\n",
    "\n",
    "            input_ids = batch['input_ids'].to(device)\n",
    "            attention_mask = batch['attention_mask'].to(device)\n",
    "            labels = batch['labels'].to(device)\n",
    "\n",
    "            outputs = model(input_ids, attention_mask=attention_mask, labels=labels)\n",
    "            loss = criterion(outputs.logits, labels)\n",
    "            total_train_loss += loss.item()\n",
    "\n",
    "            loss.backward()\n",
    "            optimizer.step()\n",
    "\n",
    "            train_progress_bar.set_description(f\"Epoch {epoch + 1} Training Loss: {loss.item():.4f}\")\n",
    "\n",
    "            if i % 500 == 0:\n",
    "                # calculate accuracy\n",
    "                accuracy = ((outputs.logits.argmax(1) == labels).sum().item() / batch_size) * 100\n",
    "                print(f'Epoch {epoch + 1}, Checkpoint {i / 100}, Loss: {loss.item()}, accuracy: {accuracy}')\n",
    "\n",
    "            if early_stop and i == 1000:\n",
    "                break\n",
    "\n",
    "        scheduler.step()\n",
    "\n",
    "        avg_train_loss = total_train_loss / len(train_dataloader)\n",
    "        print('Average Training Loss:', avg_train_loss)\n",
    "\n",
    "        if evaluation_strategy == \"epoch\":\n",
    "            model.eval()\n",
    "            total_eval_loss = 0\n",
    "\n",
    "            # Add tqdm progress bar for validation loop\n",
    "            val_progress_bar = tqdm(val_dataloader, total=len(val_dataloader), desc=f\"Epoch {epoch + 1} Validation\")\n",
    "            for batch in val_progress_bar:\n",
    "                input_ids = batch['input_ids'].to(device)\n",
    "                attention_mask = batch['attention_mask'].to(device)\n",
    "                labels = batch['labels'].to(device)\n",
    "\n",
    "                with torch.no_grad():\n",
    "                    outputs = model(input_ids, attention_mask=attention_mask, labels=labels)\n",
    "                    loss = criterion(outputs.logits, labels)\n",
    "                    total_eval_loss += loss.item()\n",
    "\n",
    "                    val_progress_bar.set_description(f\"Validation Loss: {loss.item():.4f}\")\n",
    "\n",
    "            avg_val_loss = total_eval_loss / len(val_dataloader)\n",
    "            print('Validation Loss:', avg_val_loss)\n",
    "\n",
    "            # val_accuracy = ((outputs.logits.argmax(1) == labels).sum().item() / len(outputs.logits)) * 100\n",
    "            # print('Validation Accuracy:', val_accuracy)\n",
    "\n",
    "            if avg_val_loss < best_val_loss:\n",
    "                best_val_loss = avg_val_loss\n",
    "                if save_strategy == \"best\":\n",
    "                    torch.save(model.state_dict(), os.path.join(output_dir, 'best_model.pth'))\n",
    "\n",
    "        if save_strategy == \"epoch\":\n",
    "            torch.save(model.state_dict(), os.path.join(output_dir, f'model_epoch_{epoch + 1}.pth'))\n",
    "\n",
    "    if load_best_model_at_end and save_strategy == \"best\":\n",
    "        model.load_state_dict(torch.load(os.path.join(output_dir, 'best_model.pth')))\n",
    "\n",
    "    return model\n"
   ]
  },
  {
   "cell_type": "code",
   "execution_count": 20,
   "metadata": {},
   "outputs": [
    {
     "name": "stderr",
     "output_type": "stream",
     "text": [
      "/tmp/ipykernel_364823/3817661438.py:18: UserWarning: To copy construct from a tensor, it is recommended to use sourceTensor.clone().detach() or sourceTensor.clone().detach().requires_grad_(True), rather than torch.tensor(sourceTensor).\n",
      "  item = {key: torch.tensor(val[idx]) for key, val in self.encodings.items()}\n",
      "/tmp/ipykernel_364823/3817661438.py:19: UserWarning: To copy construct from a tensor, it is recommended to use sourceTensor.clone().detach() or sourceTensor.clone().detach().requires_grad_(True), rather than torch.tensor(sourceTensor).\n",
      "  item['labels'] = torch.tensor(self.labels[idx])\n"
     ]
    },
    {
     "name": "stdout",
     "output_type": "stream",
     "text": [
      "Accuracy: 0.4892\n"
     ]
    }
   ],
   "source": [
    "# test the model accuracy before training\n",
    "accuracy_results, predictions = test(no_pretrained_model, val_dataloader)\n",
    "\n",
    "print('Accuracy:', accuracy_results)"
   ]
  },
  {
   "cell_type": "code",
   "execution_count": 116,
   "metadata": {},
   "outputs": [
    {
     "name": "stderr",
     "output_type": "stream",
     "text": [
      "Epoch 1/3 Training:   0%|          | 0/20000 [00:00<?, ?it/s]"
     ]
    },
    {
     "name": "stderr",
     "output_type": "stream",
     "text": [
      "/tmp/ipykernel_3740631/3817661438.py:18: UserWarning: To copy construct from a tensor, it is recommended to use sourceTensor.clone().detach() or sourceTensor.clone().detach().requires_grad_(True), rather than torch.tensor(sourceTensor).\n",
      "  item = {key: torch.tensor(val[idx]) for key, val in self.encodings.items()}\n",
      "/tmp/ipykernel_3740631/3817661438.py:19: UserWarning: To copy construct from a tensor, it is recommended to use sourceTensor.clone().detach() or sourceTensor.clone().detach().requires_grad_(True), rather than torch.tensor(sourceTensor).\n",
      "  item['labels'] = torch.tensor(self.labels[idx])\n",
      "Epoch 1 Training Loss: 0.0211:   0%|          | 1/20000 [00:00<4:19:59,  1.28it/s]"
     ]
    },
    {
     "name": "stdout",
     "output_type": "stream",
     "text": [
      "Epoch 1, Checkpoint 0.0, Loss: 0.021122876554727554, accuracy: 200.0\n"
     ]
    },
    {
     "name": "stderr",
     "output_type": "stream",
     "text": [
      "Epoch 1 Training Loss: 0.0112:   3%|▎         | 501/20000 [05:52<3:47:55,  1.43it/s]"
     ]
    },
    {
     "name": "stdout",
     "output_type": "stream",
     "text": [
      "Epoch 1, Checkpoint 5.0, Loss: 0.011210933327674866, accuracy: 200.0\n"
     ]
    },
    {
     "name": "stderr",
     "output_type": "stream",
     "text": [
      "Epoch 1 Training Loss: 0.0683:   5%|▌         | 1000/20000 [11:43<3:42:48,  1.42it/s]\n"
     ]
    },
    {
     "name": "stdout",
     "output_type": "stream",
     "text": [
      "Epoch 1, Checkpoint 10.0, Loss: 0.0683380737900734, accuracy: 200.0\n",
      "Average Training Loss: 0.00650562212264631\n"
     ]
    },
    {
     "name": "stderr",
     "output_type": "stream",
     "text": [
      "Validation Loss: 0.1776: 100%|██████████| 2500/2500 [09:21<00:00,  4.45it/s]\n"
     ]
    },
    {
     "name": "stdout",
     "output_type": "stream",
     "text": [
      "Validation Loss: 0.1113830860665068\n",
      "Validation Accuracy: 87.5\n"
     ]
    },
    {
     "name": "stderr",
     "output_type": "stream",
     "text": [
      "Epoch 2 Training Loss: 0.0373:   0%|          | 1/20000 [00:00<4:14:08,  1.31it/s]"
     ]
    },
    {
     "name": "stdout",
     "output_type": "stream",
     "text": [
      "Epoch 2, Checkpoint 0.0, Loss: 0.0372585766017437, accuracy: 200.0\n"
     ]
    },
    {
     "name": "stderr",
     "output_type": "stream",
     "text": [
      "Epoch 2 Training Loss: 0.0825:   3%|▎         | 501/20000 [05:51<3:48:29,  1.42it/s]"
     ]
    },
    {
     "name": "stdout",
     "output_type": "stream",
     "text": [
      "Epoch 2, Checkpoint 5.0, Loss: 0.08245743066072464, accuracy: 187.5\n"
     ]
    },
    {
     "name": "stderr",
     "output_type": "stream",
     "text": [
      "Epoch 2 Training Loss: 0.0272:   5%|▌         | 1000/20000 [11:42<3:42:34,  1.42it/s]\n"
     ]
    },
    {
     "name": "stdout",
     "output_type": "stream",
     "text": [
      "Epoch 2, Checkpoint 10.0, Loss: 0.027223806828260422, accuracy: 200.0\n",
      "Average Training Loss: 0.005375306690786965\n"
     ]
    },
    {
     "name": "stderr",
     "output_type": "stream",
     "text": [
      "Validation Loss: 0.1172: 100%|██████████| 2500/2500 [09:20<00:00,  4.46it/s]\n"
     ]
    },
    {
     "name": "stdout",
     "output_type": "stream",
     "text": [
      "Validation Loss: 0.10252427590275183\n",
      "Validation Accuracy: 93.75\n"
     ]
    },
    {
     "name": "stderr",
     "output_type": "stream",
     "text": [
      "Epoch 3 Training Loss: 0.0373:   0%|          | 1/20000 [00:00<4:13:37,  1.31it/s]"
     ]
    },
    {
     "name": "stdout",
     "output_type": "stream",
     "text": [
      "Epoch 3, Checkpoint 0.0, Loss: 0.037322890013456345, accuracy: 200.0\n"
     ]
    },
    {
     "name": "stderr",
     "output_type": "stream",
     "text": [
      "Epoch 3 Training Loss: 0.0785:   3%|▎         | 501/20000 [05:51<3:48:06,  1.42it/s]"
     ]
    },
    {
     "name": "stdout",
     "output_type": "stream",
     "text": [
      "Epoch 3, Checkpoint 5.0, Loss: 0.07849567383527756, accuracy: 187.5\n"
     ]
    },
    {
     "name": "stderr",
     "output_type": "stream",
     "text": [
      "Epoch 3 Training Loss: 0.0066:   5%|▌         | 1000/20000 [11:42<3:42:30,  1.42it/s]\n"
     ]
    },
    {
     "name": "stdout",
     "output_type": "stream",
     "text": [
      "Epoch 3, Checkpoint 10.0, Loss: 0.006567754782736301, accuracy: 200.0\n",
      "Average Training Loss: 0.005196426911046728\n"
     ]
    },
    {
     "name": "stderr",
     "output_type": "stream",
     "text": [
      "Validation Loss: 0.1049: 100%|██████████| 2500/2500 [09:20<00:00,  4.46it/s]\n"
     ]
    },
    {
     "name": "stdout",
     "output_type": "stream",
     "text": [
      "Validation Loss: 0.10061930843470618\n",
      "Validation Accuracy: 93.75\n"
     ]
    }
   ],
   "source": [
    "best_model = train(model, train_dataloader, val_dataloader, optimizer, training_args, early_stop=True)"
   ]
  },
  {
   "cell_type": "code",
   "execution_count": 151,
   "metadata": {},
   "outputs": [
    {
     "name": "stderr",
     "output_type": "stream",
     "text": [
      "/tmp/ipykernel_3740631/3817661438.py:18: UserWarning: To copy construct from a tensor, it is recommended to use sourceTensor.clone().detach() or sourceTensor.clone().detach().requires_grad_(True), rather than torch.tensor(sourceTensor).\n",
      "  item = {key: torch.tensor(val[idx]) for key, val in self.encodings.items()}\n",
      "/tmp/ipykernel_3740631/3817661438.py:19: UserWarning: To copy construct from a tensor, it is recommended to use sourceTensor.clone().detach() or sourceTensor.clone().detach().requires_grad_(True), rather than torch.tensor(sourceTensor).\n",
      "  item['labels'] = torch.tensor(self.labels[idx])\n"
     ]
    },
    {
     "name": "stdout",
     "output_type": "stream",
     "text": [
      "Accuracy: 0.96645\n"
     ]
    }
   ],
   "source": [
    "accuracy_results, predictions = test(best_model, val_dataloader)\n",
    "\n",
    "print('Accuracy:', accuracy_results)"
   ]
  },
  {
   "cell_type": "code",
   "execution_count": 152,
   "metadata": {},
   "outputs": [],
   "source": [
    "# save the model\n",
    "torch.save(best_model.state_dict(), 'models/sentiment_model_dallas.pth')"
   ]
  },
  {
   "cell_type": "code",
   "execution_count": 4,
   "metadata": {},
   "outputs": [
    {
     "name": "stderr",
     "output_type": "stream",
     "text": [
      "/home/dyang/miniconda3/envs/NLP_env3.8/lib/python3.8/site-packages/huggingface_hub/file_download.py:1132: FutureWarning: `resume_download` is deprecated and will be removed in version 1.0.0. Downloads always resume when possible. If you want to force a new download, use `force_download=True`.\n",
      "  warnings.warn(\n"
     ]
    },
    {
     "name": "stdout",
     "output_type": "stream",
     "text": [
      "Model is on GPU: NVIDIA TITAN RTX\n"
     ]
    }
   ],
   "source": [
    "model = AutoModelForSequenceClassification.from_pretrained(\"siebert/sentiment-roberta-large-english\", num_labels=2)\n",
    "\n",
    "model.load_state_dict(torch.load('models/sentiment_model_dallas.pth'))\n",
    "\n",
    "if torch.cuda.is_available():\n",
    "    device = torch.device(\"cuda:0\")  \n",
    "    model.to(device)\n",
    "    print(\"Model is on GPU:\", torch.cuda.get_device_name(0))\n",
    "else:\n",
    "    device = torch.device(\"cpu\")\n",
    "    model.to(device)\n",
    "    print(\"Model is on CPU\")"
   ]
  },
  {
   "cell_type": "code",
   "execution_count": 7,
   "metadata": {},
   "outputs": [
    {
     "name": "stdout",
     "output_type": "stream",
     "text": [
      "tensor([[ 3.2639, -2.7294]], device='cuda:0')\n",
      "Prediction: 0\n",
      "Sentiment: Negative\n"
     ]
    }
   ],
   "source": [
    "CUSTOM_INPUT = \"I love this product, but it needs serous work on its battery life\"\n",
    "tokenized_input = tokenizer(CUSTOM_INPUT, max_length=256, padding='max_length', truncation=True, return_tensors='pt')\n",
    "input_ids = tokenized_input['input_ids']\n",
    "attention_mask = tokenized_input['attention_mask']\n",
    "\n",
    "with torch.no_grad():\n",
    "    outputs = model(input_ids.to(device), attention_mask=attention_mask.to(device))\n",
    "    logits = outputs.logits\n",
    "    print(logits)\n",
    "    prediction = logits.argmax(dim=1).item()\n",
    "\n",
    "print('Prediction:', prediction)\n",
    "print('Sentiment:', 'Positive' if prediction == 1 else 'Negative')\n"
   ]
  }
 ],
 "metadata": {
  "kernelspec": {
   "display_name": "NLP_env3.8",
   "language": "python",
   "name": "python3"
  },
  "language_info": {
   "codemirror_mode": {
    "name": "ipython",
    "version": 3
   },
   "file_extension": ".py",
   "mimetype": "text/x-python",
   "name": "python",
   "nbconvert_exporter": "python",
   "pygments_lexer": "ipython3",
   "version": "3.8.19"
  }
 },
 "nbformat": 4,
 "nbformat_minor": 2
}
